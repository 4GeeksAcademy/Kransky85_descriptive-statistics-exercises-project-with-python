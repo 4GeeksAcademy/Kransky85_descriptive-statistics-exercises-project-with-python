{
    "cells": [
        {
            "cell_type": "markdown",
            "id": "ac622319",
            "metadata": {},
            "source": [
                "# Descriptive statistics solutions"
            ]
        },
        {
            "cell_type": "markdown",
            "id": "aa8993e4",
            "metadata": {},
            "source": [
                "### Exercise 1"
            ]
        },
        {
            "cell_type": "code",
            "execution_count": 3,
            "id": "34720ab6",
            "metadata": {},
            "outputs": [
                {
                    "name": "stdout",
                    "output_type": "stream",
                    "text": [
                        "Normal vector: [-1.56035211 -0.0309776  -0.62092842 -1.46458049  1.41194612 -0.47673214\n",
                        " -0.78046921  1.07026774 -1.2822926  -1.3274789   0.12633764  0.86219372\n",
                        "  0.69673696 -0.33456518 -0.99752606  1.59890829  3.31407535  0.98777046\n",
                        "  0.12386626  0.74278539 -0.39395585  0.14811582 -0.41223445 -0.16071506\n",
                        "  0.13953147  0.28546937 -0.28126199  1.71090732 -0.14976664  0.69030672\n",
                        "  1.09520951  1.3384087  -1.36898167  0.48642763  0.75352168  0.36346459\n",
                        " -0.31471048  1.37328117 -0.62441716  0.375754   -0.20041632  0.74303806\n",
                        "  0.85736196 -1.50618929 -1.66635217 -0.2189948  -0.35885843  0.37852769\n",
                        "  0.68421537 -1.16785607 -0.79321662 -0.0388354   2.70525499 -1.49138851\n",
                        "  0.09597793  0.52468671  0.8156655   0.0515058  -0.16455536  0.27819942\n",
                        "  0.0871147   0.03426837  0.74656892 -0.94363758 -0.24577667  1.10812096\n",
                        "  0.03900789 -0.21326669 -0.89095461 -0.27064634  0.22224372  0.2518136\n",
                        "  0.70792609  0.49398983  1.47100167 -0.58261947  2.06581949  1.08783389\n",
                        "  0.80518904 -1.58788484  1.2308855  -2.37345338 -0.03111097 -3.80989038\n",
                        " -0.19904969  0.35043074 -0.05255078 -0.63428108 -0.36293111 -2.57091976\n",
                        "  0.13751474 -0.71929619  0.72852289  1.62174549  1.52166225 -1.30677343\n",
                        " -0.8897683   0.00526774  0.86642487 -0.53553558]\n",
                        "Chi-square vector: [ 1.81891539  2.43669194  1.98778709  1.93521196  1.94008985  3.03457714\n",
                        "  1.36464737  4.66702721  2.79301562  4.68819589  0.67198791  0.61991366\n",
                        "  4.76395167  4.35408628  4.22622     3.08509485  1.02362195  1.35646889\n",
                        "  0.67241204  2.27338072  5.85474351 12.73212815  6.7762923   2.00583864\n",
                        "  4.46965008  0.56887837  0.8530461   6.26222406  1.32568185  1.10089757\n",
                        "  1.69734664  1.59941235  1.10741536  4.07061198  7.39703257  0.90539187\n",
                        "  3.12505476  1.33901664  0.95597338  4.81536162  2.35477307  2.18050495\n",
                        "  0.41085732  0.76495917  0.30461851  2.68547002  2.37509912  0.50790078\n",
                        "  4.3407816   4.27791855  1.91302893  2.16908369  0.84527393  2.19659462\n",
                        "  0.80727636  6.72202912  3.77912358  2.45923855  1.63299129  3.55716103\n",
                        "  1.57413529  1.66467563  3.41584681  2.68500338  2.20882858  7.29119594\n",
                        "  0.90647044  1.84620857  7.67111209  8.47395829  3.50683664  0.38919886\n",
                        "  0.63697186  3.77991941  4.24269464  6.3356005   1.07287011  0.25886265\n",
                        "  0.12413781  0.54818147  2.00752589  3.33282146  1.25073425  0.40663624\n",
                        "  3.26448813  5.70236682  1.84992024  3.32931888  1.78653456  4.13757005\n",
                        "  0.20257986  9.03695504  4.85707808  3.81774705  1.49204927  4.16239548\n",
                        " 11.83098523  1.02748429  0.66699849  1.33147003]\n"
                    ]
                }
            ],
            "source": [
                "import numpy as np\n",
                "\n",
                "np.random.seed(50)\n",
                "\n",
                "normal = np.random.normal(size = 100)\n",
                "chi = np.random.chisquare(3, 100)\n",
                "\n",
                "print(f\"Normal vector: {normal}\")\n",
                "print(f\"Chi-square vector: {chi}\")"
            ]
        },
        {
            "cell_type": "markdown",
            "id": "d2216d1c",
            "metadata": {},
            "source": [
                "#### Measures of central tendency"
            ]
        },
        {
            "cell_type": "markdown",
            "id": "925b25e3",
            "metadata": {},
            "source": [
                "##### Mean"
            ]
        },
        {
            "cell_type": "code",
            "execution_count": 2,
            "id": "75ec280a",
            "metadata": {},
            "outputs": [
                {
                    "name": "stdout",
                    "output_type": "stream",
                    "text": [
                        "Normal mean: -0.10384651739409385\n",
                        "Chi mean: 2.9380795335328225\n"
                    ]
                }
            ],
            "source": [
                "import statistics as stats\n",
                "\n",
                "print(f\"Normal mean: {stats.mean(normal)}\")\n",
                "print(f\"Chi mean: {stats.mean(chi)}\")"
            ]
        },
        {
            "cell_type": "markdown",
            "id": "8017d3af",
            "metadata": {},
            "source": [
                "##### Median"
            ]
        },
        {
            "cell_type": "code",
            "execution_count": 3,
            "id": "d7644384",
            "metadata": {},
            "outputs": [
                {
                    "name": "stdout",
                    "output_type": "stream",
                    "text": [
                        "Normal median: -0.1269562917797126\n",
                        "Chi median: 2.4636148965577283\n"
                    ]
                }
            ],
            "source": [
                "print(f\"Normal median: {stats.median(normal)}\")\n",
                "print(f\"Chi median: {stats.median(chi)}\")"
            ]
        },
        {
            "cell_type": "markdown",
            "id": "0f274822",
            "metadata": {},
            "source": [
                "##### Mode\n",
                "\n",
                "In a continuous array, values are usually represented as intervals rather than distinct numbers. Thus, finding the mode is slightly different from how it's done in a discrete array. For continuous data, we typically find the \"modal class\" or the interval with the highgers frequency."
            ]
        },
        {
            "cell_type": "code",
            "execution_count": 4,
            "id": "3e8f1c6f",
            "metadata": {},
            "outputs": [
                {
                    "name": "stdout",
                    "output_type": "stream",
                    "text": [
                        "Normal mode: 0.4967141530112327\n",
                        "Chi mode: 0.4168513022813494\n"
                    ]
                }
            ],
            "source": [
                "print(f\"Normal mode: {stats.mode(normal)}\")\n",
                "print(f\"Chi mode: {stats.mode(chi)}\")"
            ]
        },
        {
            "cell_type": "markdown",
            "id": "358d39a7",
            "metadata": {},
            "source": [
                "#### Measures of dispersion"
            ]
        },
        {
            "cell_type": "markdown",
            "id": "303236c9",
            "metadata": {},
            "source": [
                "##### Range"
            ]
        },
        {
            "cell_type": "code",
            "execution_count": 5,
            "id": "2f31b2e1",
            "metadata": {},
            "outputs": [
                {
                    "name": "stdout",
                    "output_type": "stream",
                    "text": [
                        "Normal range: 4.472023288598682\n",
                        "Normal chi: 12.592089274962756\n"
                    ]
                }
            ],
            "source": [
                "range_normal = max(normal) - min(normal)\n",
                "range_chi = max(chi) - min(chi)\n",
                "print(f\"Normal range: {range_normal}\")\n",
                "print(f\"Normal chi: {range_chi}\")"
            ]
        },
        {
            "cell_type": "markdown",
            "id": "d919015c",
            "metadata": {},
            "source": [
                "##### Variance and standard deviation"
            ]
        },
        {
            "cell_type": "code",
            "execution_count": 6,
            "id": "a8b51d2f",
            "metadata": {},
            "outputs": [
                {
                    "name": "stdout",
                    "output_type": "stream",
                    "text": [
                        "Normal variance: 0.82476989363016 and std: 0.9081684280078007\n",
                        "Chi variance: 5.87576054587392 and std: 2.4239968122656266\n"
                    ]
                }
            ],
            "source": [
                "var_normal = stats.variance(normal)\n",
                "std_normal = stats.stdev(normal)\n",
                "var_chi = stats.variance(chi)\n",
                "std_chi = stats.stdev(chi)\n",
                "\n",
                "print(f\"Normal variance: {var_normal} and std: {std_normal}\")\n",
                "print(f\"Chi variance: {var_chi} and std: {std_chi}\")"
            ]
        },
        {
            "cell_type": "markdown",
            "id": "09c2ffe3",
            "metadata": {},
            "source": [
                "#### Shape measures\n",
                "\n",
                "##### Skewness"
            ]
        },
        {
            "cell_type": "code",
            "execution_count": 7,
            "id": "2b42a0af",
            "metadata": {},
            "outputs": [
                {
                    "name": "stdout",
                    "output_type": "stream",
                    "text": [
                        "Normal skewness: -0.17526772024433726\n",
                        "Chi skewness: 1.6683703423622345\n"
                    ]
                }
            ],
            "source": [
                "from scipy.stats import skew\n",
                "\n",
                "skew_normal = skew(normal)\n",
                "skew_chi = skew(chi)\n",
                "\n",
                "print(f\"Normal skewness: {skew_normal}\")\n",
                "print(f\"Chi skewness: {skew_chi}\")"
            ]
        },
        {
            "cell_type": "markdown",
            "id": "71b018ce",
            "metadata": {},
            "source": [
                "##### Kurtosis"
            ]
        },
        {
            "cell_type": "code",
            "execution_count": 8,
            "id": "968348dd",
            "metadata": {},
            "outputs": [
                {
                    "name": "stdout",
                    "output_type": "stream",
                    "text": [
                        "Normal kurtosis: -0.1554047077420817\n",
                        "Chi kurtosis: 3.620577909892315\n"
                    ]
                }
            ],
            "source": [
                "from scipy.stats import kurtosis\n",
                "\n",
                "kurt_normal = kurtosis(normal)\n",
                "kurt_chi = kurtosis(chi)\n",
                "\n",
                "print(f\"Normal kurtosis: {kurt_normal}\")\n",
                "print(f\"Chi kurtosis: {kurt_chi}\")"
            ]
        },
        {
            "cell_type": "markdown",
            "id": "8eb4a894",
            "metadata": {},
            "source": [
                "As can be seen, the statistics yield intrinsic values and characteristics for each distribution.\n",
                "\n",
                "- The vector following a normal distribution has a skewness that is equal to 0, indicating that the mean, median and mode coincide and are 0. On the other hand, the kurtosis is close to 0, so it follows a normal distribution with high accuracy.\n",
                "- The vector following a chi-square distribution has a skewness close to 1, with the largest amount of the data on the left, which coincides with the very definition of the distribution. This skewness reflects that the mean is larger than the mode and the median, thus characterizing the chi-square distribution."
            ]
        },
        {
            "cell_type": "markdown",
            "id": "46c70c3d",
            "metadata": {},
            "source": [
                "### Exercise 2"
            ]
        },
        {
            "cell_type": "code",
            "execution_count": 9,
            "id": "d590308e",
            "metadata": {},
            "outputs": [
                {
                    "name": "stdout",
                    "output_type": "stream",
                    "text": [
                        "Sample Data: [4, 2, 5, 8, 6]\n",
                        "Standard Deviation: 2.23606797749979\n"
                    ]
                }
            ],
            "source": [
                "import math\n",
                "import sys\n",
                "\n",
                "# Define the standard deviation function\n",
                "\n",
                "def sd_calc(data):\n",
                "    n = len(data)\n",
                "\n",
                "    if (n <= 1):\n",
                "        return 0.0\n",
                "\n",
                "    mean, sd = avg_calc(data), 0.0\n",
                "\n",
                "    for d in data:\n",
                "        sd += (float(d) - mean) ** 2\n",
                "    sd = math.sqrt(sd / float(n - 1))\n",
                "\n",
                "    return sd\n",
                "\n",
                "def avg_calc(data):\n",
                "    n, mean = len(data), 0.0\n",
                "\n",
                "    if (n <= 1):\n",
                "        return data[0]\n",
                "\n",
                "    for d in data:\n",
                "        mean = mean + float(d)\n",
                "\n",
                "    mean = mean / float(n)\n",
                "    return mean\n",
                "\n",
                "\n",
                "data = [4, 2, 5, 8, 6]\n",
                "print(f\"Sample Data: {data}\")\n",
                "print(f\"Standard Deviation: {sd_calc(data)}\")"
            ]
        }
    ],
    "metadata": {
        "interpreter": {
            "hash": "0f2f6c680cf484319d387fabac80ca4ff4fc33965036e02100b3fe02600f1423"
        },
        "kernelspec": {
            "display_name": "Python 3.10.1 64-bit",
            "language": "python",
            "name": "python3"
        },
        "language_info": {
            "codemirror_mode": {
                "name": "ipython",
                "version": 3
            },
            "file_extension": ".py",
            "mimetype": "text/x-python",
            "name": "python",
            "nbconvert_exporter": "python",
            "pygments_lexer": "ipython3",
            "version": "3.11.4"
        }
    },
    "nbformat": 4,
    "nbformat_minor": 5
}
